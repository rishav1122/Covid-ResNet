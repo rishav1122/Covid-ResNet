{
  "nbformat": 4,
  "nbformat_minor": 0,
  "metadata": {
    "colab": {
      "name": "Testing.ipynb",
      "provenance": []
    },
    "kernelspec": {
      "name": "python3",
      "display_name": "Python 3"
    }
  },
  "cells": [
    {
      "cell_type": "code",
      "metadata": {
        "id": "eDBEKKEnEq9v",
        "colab": {
          "base_uri": "https://localhost:8080/"
        },
        "outputId": "330ad09e-40da-4275-bb96-afa9de61e987"
      },
      "source": [
        "from google.colab import drive\n",
        "drive.mount('/content/drive')"
      ],
      "execution_count": 1,
      "outputs": [
        {
          "output_type": "stream",
          "text": [
            "Mounted at /content/drive\n"
          ],
          "name": "stdout"
        }
      ]
    },
    {
      "cell_type": "code",
      "metadata": {
        "id": "xAZ07Rs0pg8u",
        "colab": {
          "base_uri": "https://localhost:8080/"
        },
        "outputId": "6b7bd004-9306-4df7-c294-f0e73a070edb"
      },
      "source": [
        "%cd drive/MyDrive/Project/COVID-19-master"
      ],
      "execution_count": 2,
      "outputs": [
        {
          "output_type": "stream",
          "text": [
            "/content/drive/.shortcut-targets-by-id/148tduUm3_N2YmcWCKycU5qdfNmgLJccA/Project/COVID-19-master\n"
          ],
          "name": "stdout"
        }
      ]
    },
    {
      "cell_type": "code",
      "metadata": {
        "colab": {
          "base_uri": "https://localhost:8080/"
        },
        "id": "f5o9QSw40KmV",
        "outputId": "c955f146-3d13-479c-ed7a-c4fd3fc410f5"
      },
      "source": [
        "!ls"
      ],
      "execution_count": 8,
      "outputs": [
        {
          "output_type": "stream",
          "text": [
            " assets\n",
            " CLR\n",
            " confusion_matrix_test.jpg\n",
            " confusion_matrix_train.jpg\n",
            "'Copy of Rishabmain.py'\n",
            " create_COVIDx.ipynb\n",
            " data\n",
            " Final_weights\n",
            " keras_model.py\n",
            " ktrain-master\n",
            " LICENSE\n",
            " LICENSE.md\n",
            " LRF\n",
            " main.py\n",
            " model1.h5\n",
            " model_32.h5\n",
            " model.h5\n",
            " Mykeras_model.py\n",
            " my-main.py\n",
            " Mymain.py\n",
            " Naddemmain.py\n",
            " preprocessing.ipynb\n",
            " __pycache__\n",
            " README-lindawangg-2020.3.27.md\n",
            " readme.md\n",
            " resnet50_weights_tf_dim_ordering_tf_kernels_notop.h5\n",
            " Rishabmain.py\n",
            " test_COVIDx5.txt\n",
            " tmp.hdf5\n",
            " train_COVIDx5.txt\n"
          ],
          "name": "stdout"
        }
      ]
    },
    {
      "cell_type": "code",
      "metadata": {
        "id": "iPZUIptJ5CQt"
      },
      "source": [
        "# #importing \n",
        "import cv2\n",
        "import numpy as np\n",
        "import matplotlib.pyplot as plt\n",
        "import os\n",
        "from tqdm import tqdm"
      ],
      "execution_count": null,
      "outputs": []
    },
    {
      "cell_type": "code",
      "metadata": {
        "id": "-YVqCCFcuBg3"
      },
      "source": [
        "import numpy as np\n",
        "import tensorflow as tf\n",
        "\n",
        "from tensorflow.keras.applications import ResNet50\n",
        "from tensorflow.keras.models import Sequential\n",
        "from tensorflow.keras.layers import Dense, BatchNormalization"
      ],
      "execution_count": 3,
      "outputs": []
    },
    {
      "cell_type": "code",
      "metadata": {
        "id": "phfk6r0SzfXd"
      },
      "source": [
        "from os import listdir\n",
        "from os.path import isfile, join\n",
        "\n",
        "    \n",
        "xtest = np.load('data/x_test.npy')\n",
        "ytest = np.load('data/y_test.npy')"
      ],
      "execution_count": 5,
      "outputs": []
    },
    {
      "cell_type": "code",
      "metadata": {
        "id": "KSZcDME71sxQ"
      },
      "source": [
        "def confusion_matrix_info(y_true, y_pred, labels=['normal', 'pneumonia',  'COVID-19'],\n",
        "                          title='confusion matrix'):\n",
        "    import seaborn as sns\n",
        "    import pandas as pd\n",
        "    from sklearn.metrics import confusion_matrix, f1_score\n",
        "    import matplotlib.pyplot as plt\n",
        "    C2 = confusion_matrix(y_true, y_pred)\n",
        "    C = pd.DataFrame(C2, columns=labels, index=labels)\n",
        "    m, _ = C2.shape\n",
        "    for i in range(m):\n",
        "        precision = C2[i, i] / sum(C2[:, i])\n",
        "        recall = C2[i, i] / sum(C2[i, :])\n",
        "        f1 = 2 * precision * recall / (precision + recall)\n",
        "        print('In class {}:\\t total samples: {}\\t true predict samples: {}\\t'\n",
        "              'acc={:.4f},\\trecall={:.4f},\\tf1-score={:.4f}'.format(\n",
        "            labels[i], sum(C2[i, :]), C2[i, i], precision, recall, f1))\n",
        "    print('-' * 100, '\\n', 'average f1={:.4f}'.format(f1_score(y_true, y_pred, average='micro')))\n",
        " \n",
        "    f, ax = plt.subplots()\n",
        "    sns.heatmap(C, annot=True, ax=ax, cmap=plt.cm.binary)\n",
        "    ax.set_title(title)\n",
        "    ax.set_xlabel('predict')\n",
        "    ax.set_ylabel('true')\n",
        "    plt.savefig(title+'.jpg')"
      ],
      "execution_count": 10,
      "outputs": []
    },
    {
      "cell_type": "markdown",
      "metadata": {
        "id": "5CnLX946zsz0"
      },
      "source": [
        "Test using stage 3 model"
      ]
    },
    {
      "cell_type": "code",
      "metadata": {
        "id": "nbs1KvBqzhtC"
      },
      "source": [
        "def test(xt, yt):\n",
        "    model = tf.keras.models.load_model('Final_model.h5')\n",
        "    \n",
        "    y_pred = model.predict(xt)\n",
        "    confusion_matrix_info(yt, np.argmax(y_pred, axis=1),title='confusion_matrix_test')"
      ],
      "execution_count": 6,
      "outputs": []
    },
    {
      "cell_type": "code",
      "metadata": {
        "colab": {
          "base_uri": "https://localhost:8080/",
          "height": 380
        },
        "id": "y6zDz8TlzmKS",
        "outputId": "007a74a7-a0ce-4ba4-e8d5-69a584dab986"
      },
      "source": [
        "test(xtest, ytest)"
      ],
      "execution_count": 11,
      "outputs": [
        {
          "output_type": "stream",
          "text": [
            "In class normal:\t total samples: 100\t true predict samples: 90\tacc=0.6122,\trecall=0.9000,\tf1-score=0.7287\n",
            "In class pneumonia:\t total samples: 100\t true predict samples: 81\tacc=0.6429,\trecall=0.8100,\tf1-score=0.7168\n",
            "In class COVID-19:\t total samples: 100\t true predict samples: 25\tacc=0.9259,\trecall=0.2500,\tf1-score=0.3937\n",
            "---------------------------------------------------------------------------------------------------- \n",
            " average f1=0.6533\n"
          ],
          "name": "stdout"
        },
        {
          "output_type": "display_data",
          "data": {
            "image/png": "[encoded data removed]",
            "text/plain": [
              "<Figure size 432x288 with 2 Axes>"
            ]
          },
          "metadata": {
            "tags": [],
            "needs_background": "light"
          }
        }
      ]
    },
    {
      "cell_type": "markdown",
      "metadata": {
        "id": "A08nHbN1z8Dj"
      },
      "source": [
        "Test using stage 2 model"
      ]
    },
    {
      "cell_type": "code",
      "metadata": {
        "id": "W_I7axFAz0Ja"
      },
      "source": [
        "def test(xt, yt):\n",
        "    model = tf.keras.models.load_model('model2.h5')\n",
        "    \n",
        "    y_pred = model.predict(xt)\n",
        "    confusion_matrix_info(yt, np.argmax(y_pred, axis=1),title='confusion_matrix_test')"
      ],
      "execution_count": null,
      "outputs": []
    },
    {
      "cell_type": "code",
      "metadata": {
        "id": "QH-OW4dj0AgL"
      },
      "source": [
        "test(xtest, ytest)"
      ],
      "execution_count": null,
      "outputs": []
    }
  ]
}